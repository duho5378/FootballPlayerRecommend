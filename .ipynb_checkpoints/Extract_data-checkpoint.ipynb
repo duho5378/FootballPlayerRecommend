{
 "cells": [
  {
   "cell_type": "code",
   "execution_count": 16,
   "id": "2751c8b3",
   "metadata": {},
   "outputs": [],
   "source": [
    "import joblib\n",
    "from sklearn.model_selection import train_test_split\n",
    "from sklearn.linear_model import LogisticRegression\n",
    "from sklearn import metrics\n",
    "from sklearn.preprocessing import OneHotEncoder\n",
    "\n",
    "import numpy as np\n",
    "import pandas as pd\n",
    "import csv\n",
    "\n",
    "import warnings\n",
    "\n",
    "warnings.filterwarnings(\"ignore\")"
   ]
  },
  {
   "cell_type": "code",
   "execution_count": 17,
   "id": "34f785ce",
   "metadata": {},
   "outputs": [],
   "source": [
    "def convert_string_to_number(str):\n",
    "    if str.isdigit():\n",
    "        return int(str)\n",
    "    num1 = ''\n",
    "    num2 = ''\n",
    "    add = None\n",
    "    for i in range(0, len(str)):\n",
    "        if str[i].isdigit() and add == None:\n",
    "            num1 += str[i]\n",
    "        if str[i].isdigit() and add != None:\n",
    "            num2 += str[i]\n",
    "        if str[i] == '+':\n",
    "            add = True\n",
    "        if str[i] == '-':\n",
    "            add = False\n",
    "    try: \n",
    "        if add != None:\n",
    "            if add == True:\n",
    "                return int(num1) + int(num2)\n",
    "            else:\n",
    "                return int(num1) - int(num2)\n",
    "    except: \n",
    "        return None\n",
    "    return None\n",
    "  "
   ]
  },
  {
   "cell_type": "code",
   "execution_count": 24,
   "id": "50bf498a",
   "metadata": {},
   "outputs": [],
   "source": [
    "def extract_data(data, position):\n",
    "    data = data.loc[data['player_positions'].str.contains(position.upper())]\n",
    "    data = data[['age', 'height_cm', 'weight_kg', 'preferred_foot', 'weak_foot', 'skill_moves', 'work_rate', 'body_type', \n",
    "           'pace', 'shooting', 'passing', 'dribbling', 'defending', 'physic', 'attacking_crossing','attacking_finishing', \n",
    "           'attacking_heading_accuracy', 'attacking_short_passing', 'attacking_volleys', 'skill_dribbling','skill_curve', \n",
    "           'skill_fk_accuracy', 'skill_long_passing', 'skill_ball_control', 'movement_acceleration', \n",
    "           'movement_sprint_speed','movement_agility', 'movement_reactions', 'movement_balance', 'power_shot_power', \n",
    "           'power_jumping','power_stamina','power_strength', 'power_long_shots', 'mentality_aggression', \n",
    "           'mentality_interceptions', 'mentality_positioning','mentality_vision', 'mentality_penalties', \n",
    "           'mentality_composure', 'defending_marking_awareness', 'defending_standing_tackle','defending_sliding_tackle',\n",
    "            position]]\n",
    "    data = data.dropna()\n",
    "    \n",
    "#     df = data.loc[data['player_positions'].str.contains(position.upper())]\n",
    "    label_no_convert = data[position]\n",
    "    df = data[['age', 'height_cm', 'weight_kg', 'preferred_foot', 'weak_foot', 'skill_moves', 'work_rate', 'body_type', \n",
    "           'pace', 'shooting', 'passing', 'dribbling', 'defending', 'physic', 'attacking_crossing','attacking_finishing', \n",
    "           'attacking_heading_accuracy', 'attacking_short_passing', 'attacking_volleys', 'skill_dribbling','skill_curve', \n",
    "           'skill_fk_accuracy', 'skill_long_passing', 'skill_ball_control', 'movement_acceleration', \n",
    "           'movement_sprint_speed','movement_agility', 'movement_reactions', 'movement_balance', 'power_shot_power', \n",
    "           'power_jumping','power_stamina','power_strength', 'power_long_shots', 'mentality_aggression', \n",
    "           'mentality_interceptions', 'mentality_positioning','mentality_vision', 'mentality_penalties', \n",
    "           'mentality_composure', 'defending_marking_awareness', 'defending_standing_tackle','defending_sliding_tackle']]\n",
    "    \n",
    "    labels = []\n",
    "    \n",
    "    for i in label_no_convert:\n",
    "        labels.append(convert_string_to_number(i))\n",
    "\n",
    "    labels = np.array(labels)\n",
    "    \n",
    "#     print(labels.shape)\n",
    "#     print(df.shape)\n",
    "\n",
    "    encoder = OneHotEncoder(sparse=False) \n",
    "    one_hot_encoded = encoder.fit_transform(df[['work_rate']])\n",
    "\n",
    "    one_hot_work_rate_df = pd.DataFrame(one_hot_encoded, columns=encoder.get_feature_names_out(['work_rate']))\n",
    "\n",
    "    one_hot_encoded_body = encoder.fit_transform(df[['body_type']])\n",
    "\n",
    "    one_hot_body_type_df = pd.DataFrame(one_hot_encoded_body, columns=encoder.get_feature_names_out(['body_type']))\n",
    "\n",
    "    df.reset_index(drop=True, inplace=True)\n",
    "    one_hot_work_rate_df.reset_index(drop=True, inplace=True)\n",
    "    one_hot_body_type_df.reset_index(drop=True, inplace=True)\n",
    "\n",
    "    # Ghép one-hot DataFrame với DataFrame gốc\n",
    "    df = pd.concat([df, one_hot_work_rate_df, one_hot_body_type_df], axis=1)\n",
    "\n",
    "    df = df.drop(['work_rate', 'body_type'], axis = 1)\n",
    "\n",
    "    df['preferred_foot'] = df['preferred_foot'].replace({'Right': 1, 'Left': 0})\n",
    "    \n",
    "#     print(df.shape)\n",
    "\n",
    "    return df, labels"
   ]
  },
  {
   "cell_type": "code",
   "execution_count": 22,
   "id": "dee6d530",
   "metadata": {},
   "outputs": [],
   "source": [
    "def name_file(position):\n",
    "    name = \"\" + position + \"_data.csv\"\n",
    "    return name"
   ]
  },
  {
   "cell_type": "code",
   "execution_count": 28,
   "id": "d294e68c",
   "metadata": {},
   "outputs": [
    {
     "name": "stdout",
     "output_type": "stream",
     "text": [
      "0           Medium/Low\n",
      "1          High/Medium\n",
      "2             High/Low\n",
      "3          High/Medium\n",
      "4            High/High\n",
      "             ...      \n",
      "19234    Medium/Medium\n",
      "19235    Medium/Medium\n",
      "19236    Medium/Medium\n",
      "19237    Medium/Medium\n",
      "19238    Medium/Medium\n",
      "Name: work_rate, Length: 19239, dtype: object\n"
     ]
    },
    {
     "ename": "NameError",
     "evalue": "name 'df' is not defined",
     "output_type": "error",
     "traceback": [
      "\u001b[1;31m---------------------------------------------------------------------------\u001b[0m",
      "\u001b[1;31mNameError\u001b[0m                                 Traceback (most recent call last)",
      "Cell \u001b[1;32mIn[28], line 14\u001b[0m\n\u001b[0;32m     12\u001b[0m \u001b[38;5;28mprint\u001b[39m(data[\u001b[38;5;124m'\u001b[39m\u001b[38;5;124mwork_rate\u001b[39m\u001b[38;5;124m'\u001b[39m])\n\u001b[0;32m     13\u001b[0m \u001b[38;5;66;03m# df = extract_data(data, \"ls\")\u001b[39;00m\n\u001b[1;32m---> 14\u001b[0m \u001b[38;5;28mprint\u001b[39m(df)\n\u001b[0;32m     15\u001b[0m \u001b[38;5;28mprint\u001b[39m(\u001b[38;5;124m\"\u001b[39m\u001b[38;5;124mDone\u001b[39m\u001b[38;5;124m\"\u001b[39m)\n",
      "\u001b[1;31mNameError\u001b[0m: name 'df' is not defined"
     ]
    }
   ],
   "source": [
    "data = pd.read_csv(\"male_players_22.csv\")\n",
    "\n",
    "positions = ['ls', 'st', 'rs', 'lw', 'lf', 'cf', 'rf', 'rw', 'lam', 'cam', 'ram', 'lm', 'lcm', \n",
    "            'cm', 'rcm', 'rm','lwb', 'ldm', 'cdm', 'rdm', 'rwb', 'lb', 'lcb', 'cb', 'rcb', 'rb']\n",
    "\n",
    "\n",
    "# for i in positions:\n",
    "#     filename = name_file(i)\n",
    "#     df = extract_data(data, i)\n",
    "#     df.to_csv(filename, index=True)\n",
    "\n",
    "# print(data['work_rate'])\n",
    "df, label = extract_data(data, \"ls\")\n",
    "print(df)\n",
    "print(label)\n",
    "print(\"Done\")\n"
   ]
  },
  {
   "cell_type": "code",
   "execution_count": null,
   "id": "06087a2d",
   "metadata": {},
   "outputs": [],
   "source": []
  }
 ],
 "metadata": {
  "kernelspec": {
   "display_name": "Python 3 (ipykernel)",
   "language": "python",
   "name": "python3"
  },
  "language_info": {
   "codemirror_mode": {
    "name": "ipython",
    "version": 3
   },
   "file_extension": ".py",
   "mimetype": "text/x-python",
   "name": "python",
   "nbconvert_exporter": "python",
   "pygments_lexer": "ipython3",
   "version": "3.11.4"
  }
 },
 "nbformat": 4,
 "nbformat_minor": 5
}
